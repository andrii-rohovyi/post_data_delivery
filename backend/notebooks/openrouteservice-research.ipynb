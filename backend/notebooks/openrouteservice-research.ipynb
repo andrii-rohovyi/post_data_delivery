{
 "cells": [
  {
   "cell_type": "code",
   "execution_count": 68,
   "metadata": {},
   "outputs": [],
   "source": [
    "from openrouteservice import client #, directions\n",
    "from openrouteservice import convert\n",
    "import json\n",
    "from openrouteservice import distance_matrix\n",
    "\n",
    "import aiohttp\n",
    "import os\n",
    "import asyncio\n",
    "import nest_asyncio"
   ]
  },
  {
   "cell_type": "code",
   "execution_count": 2,
   "metadata": {},
   "outputs": [],
   "source": [
    "import openrouteservice"
   ]
  },
  {
   "cell_type": "code",
   "execution_count": 13,
   "metadata": {},
   "outputs": [
    {
     "data": {
      "text/plain": [
       "'30.52463,50.459157|30.520792,50.443679'"
      ]
     },
     "execution_count": 13,
     "metadata": {},
     "output_type": "execute_result"
    }
   ],
   "source": [
    "coords = [(50.459157, 30.52463), (50.443679, 30.520792)]\n",
    "f\"{'|'.join([','.join([str(coord[1]), str(coord[0])]) for coord in coords])}\""
   ]
  },
  {
   "cell_type": "code",
   "execution_count": 76,
   "metadata": {},
   "outputs": [],
   "source": [
    "session = aiohttp.ClientSession()"
   ]
  },
  {
   "cell_type": "code",
   "execution_count": 46,
   "metadata": {},
   "outputs": [],
   "source": [
    "url = 'https://api.openrouteservice.org/v2/matrix/driving-car'\n",
    "body = {\"locations\":[(30.52463,50.459157),(30.520792,50.443679)]}\n",
    "headers = {\n",
    "    'Accept': 'application/json, application/geo+json, application/gpx+xml, img/png; charset=utf-8',\n",
    "    'Authorization': '5b3ce3597851110001cf62483b7dd1ebde744c5b9663b60cb8ca1281',\n",
    "    'Content-Type': 'application/json; charset=utf-8'\n",
    "}"
   ]
  },
  {
   "cell_type": "code",
   "execution_count": 91,
   "metadata": {},
   "outputs": [],
   "source": [
    "async def fetch():\n",
    "    async with session.post(url, json=body, headers=headers) as resp:\n",
    "        assert resp.status == 200\n",
    "        return await resp.json()\n",
    "    \n",
    "    \n",
    "async def fetch_directions(points):\n",
    "    url = 'https://api.openrouteservice.org/v2/directions/driving-car'\n",
    "    body = {\"coordinates\": points}\n",
    "    headers = {\n",
    "        'Accept': 'application/json, application/geo+json, application/gpx+xml, img/png; charset=utf-8',\n",
    "        'Authorization': '5b3ce3597851110001cf62483b7dd1ebde744c5b9663b60cb8ca1281',\n",
    "        'Content-Type': 'application/json; charset=utf-8'\n",
    "    }\n",
    "    async with session.post(url, json=body, headers=headers) as resp:\n",
    "        assert resp.status == 200\n",
    "        return await resp.json()"
   ]
  },
  {
   "cell_type": "code",
   "execution_count": null,
   "metadata": {},
   "outputs": [],
   "source": []
  },
  {
   "cell_type": "code",
   "execution_count": 77,
   "metadata": {},
   "outputs": [],
   "source": [
    "async def call_api(points):\n",
    "        return await fetch_directions(points)\n",
    "\n",
    "async def query(points):\n",
    "    returns = await asyncio.gather(*[call_api(ps) for ps in points])\n",
    "    await session.close()\n",
    "    return returns"
   ]
  },
  {
   "cell_type": "code",
   "execution_count": 78,
   "metadata": {},
   "outputs": [],
   "source": [
    "coords = [[(30.508509, 50.434091), (30.509309, 50.435981), (30.513558, 50.434020)],\n",
    "          [(30.508509, 50.434092), (30.509309, 50.435981), (30.513558, 50.434020)],\n",
    "          [(30.508509, 50.434093), (30.509309, 50.435981), (30.513558, 50.434020)],\n",
    "          [(30.508509, 50.434094), (30.509309, 50.435981), (30.513558, 50.434020)],\n",
    "          [(30.508509, 50.434095), (30.509309, 50.435981), (30.513558, 50.434020)]]"
   ]
  },
  {
   "cell_type": "code",
   "execution_count": 79,
   "metadata": {},
   "outputs": [],
   "source": [
    "directs = await query(coords)"
   ]
  },
  {
   "cell_type": "code",
   "execution_count": 85,
   "metadata": {
    "scrolled": true
   },
   "outputs": [
    {
     "data": {
      "text/plain": [
       "{'routes': [{'summary': {'distance': 3214.1, 'duration': 278.7},\n",
       "   'segments': [{'distance': 1230.4,\n",
       "     'duration': 113.8,\n",
       "     'steps': [{'distance': 534.7,\n",
       "       'duration': 44.5,\n",
       "       'type': 11,\n",
       "       'instruction': 'Head east on Жилянська вулиця',\n",
       "       'name': 'Жилянська вулиця',\n",
       "       'way_points': [0, 16]},\n",
       "      {'distance': 222.2,\n",
       "       'duration': 26.7,\n",
       "       'type': 0,\n",
       "       'instruction': 'Turn left onto Велика Васильківська вулиця',\n",
       "       'name': 'Велика Васильківська вулиця',\n",
       "       'way_points': [16, 20]},\n",
       "      {'distance': 473.5,\n",
       "       'duration': 42.6,\n",
       "       'type': 0,\n",
       "       'instruction': 'Turn left onto Саксаганського вулиця',\n",
       "       'name': 'Саксаганського вулиця',\n",
       "       'way_points': [20, 36]},\n",
       "      {'distance': 0.0,\n",
       "       'duration': 0.0,\n",
       "       'type': 10,\n",
       "       'instruction': 'Arrive at Саксаганського вулиця, on the left',\n",
       "       'name': '-',\n",
       "       'way_points': [36, 36]}]},\n",
       "    {'distance': 1983.7,\n",
       "     'duration': 164.9,\n",
       "     'steps': [{'distance': 200.6,\n",
       "       'duration': 18.1,\n",
       "       'type': 11,\n",
       "       'instruction': 'Head west on Саксаганського вулиця',\n",
       "       'name': 'Саксаганського вулиця',\n",
       "       'way_points': [36, 45]},\n",
       "      {'distance': 502.2,\n",
       "       'duration': 40.2,\n",
       "       'type': 1,\n",
       "       'instruction': 'Turn right onto Тарасівська вулиця',\n",
       "       'name': 'Тарасівська вулиця',\n",
       "       'way_points': [45, 56]},\n",
       "      {'distance': 205.6,\n",
       "       'duration': 18.5,\n",
       "       'type': 1,\n",
       "       'instruction': 'Turn right onto Льва Толстого вулиця',\n",
       "       'name': 'Льва Толстого вулиця',\n",
       "       'way_points': [56, 58]},\n",
       "      {'distance': 721.8,\n",
       "       'duration': 59.9,\n",
       "       'type': 1,\n",
       "       'instruction': 'Turn right onto Володимирська вулиця',\n",
       "       'name': 'Володимирська вулиця',\n",
       "       'way_points': [58, 75]},\n",
       "      {'distance': 353.6,\n",
       "       'duration': 28.3,\n",
       "       'type': 0,\n",
       "       'instruction': 'Turn left onto Жилянська вулиця',\n",
       "       'name': 'Жилянська вулиця',\n",
       "       'way_points': [75, 85]},\n",
       "      {'distance': 0.0,\n",
       "       'duration': 0.0,\n",
       "       'type': 10,\n",
       "       'instruction': 'Arrive at Жилянська вулиця, on the left',\n",
       "       'name': '-',\n",
       "       'way_points': [85, 85]}]}],\n",
       "   'bbox': [30.506577, 50.433946, 30.516052, 50.440834],\n",
       "   'geometry': 'clyrHeueyD@KBg@Ba@@o@@eE?{@@iA?mB@m@@{I@o@?g@DoF?aA@_B?o@g@?mA@_GHW?A|@?v@?j@?Z?lAAhC?bAAp@?tC@fB?|@?rD?rFAh@CPAHCVQhBOhBIx@Iv@CNGx@QdBCTWIa@MeBg@oA_@iAYk@SsEuAoA]mBm@yAc@WItAaODo@\\\\LrDdAf@N~@Xd@NzFdBNDdCt@b@Lz@XXHRFzBr@vAb@lBh@HDZNBg@Ba@@o@@eE?{@@iA?mB@m@@{I@g@',\n",
       "   'way_points': [0, 36, 85]}],\n",
       " 'bbox': [30.506577, 50.433946, 30.516052, 50.440834],\n",
       " 'metadata': {'attribution': 'openrouteservice.org | OpenStreetMap contributors',\n",
       "  'service': 'routing',\n",
       "  'timestamp': 1615029806606,\n",
       "  'query': {'coordinates': [[30.508509, 50.434092],\n",
       "    [30.509309, 50.435981],\n",
       "    [30.513558, 50.43402]],\n",
       "   'profile': 'driving-car',\n",
       "   'format': 'json'},\n",
       "  'engine': {'version': '6.3.6',\n",
       "   'build_date': '2021-02-21T01:31:06Z',\n",
       "   'graph_date': '1970-01-01T00:00:00Z'}}}"
      ]
     },
     "execution_count": 85,
     "metadata": {},
     "output_type": "execute_result"
    }
   ],
   "source": [
    "directs[1]"
   ]
  },
  {
   "cell_type": "code",
   "execution_count": 49,
   "metadata": {},
   "outputs": [],
   "source": [
    "returns = await asyncio.gather(a)"
   ]
  },
  {
   "cell_type": "code",
   "execution_count": 50,
   "metadata": {},
   "outputs": [
    {
     "data": {
      "text/plain": [
       "[{'durations': [[0.0, 761.03], [763.45, 0.0]],\n",
       "  'destinations': [{'location': [30.524662, 50.459177],\n",
       "    'snapped_distance': 3.15},\n",
       "   {'location': [30.520774, 50.443681], 'snapped_distance': 1.32}],\n",
       "  'sources': [{'location': [30.524662, 50.459177], 'snapped_distance': 3.15},\n",
       "   {'location': [30.520774, 50.443681], 'snapped_distance': 1.32}],\n",
       "  'metadata': {'attribution': 'openrouteservice.org | OpenStreetMap contributors',\n",
       "   'service': 'matrix',\n",
       "   'timestamp': 1615028063823,\n",
       "   'query': {'locations': [[30.52463, 50.459157], [30.520792, 50.443679]],\n",
       "    'profile': 'driving-car',\n",
       "    'responseType': 'json'},\n",
       "   'engine': {'version': '6.3.6',\n",
       "    'build_date': '2021-02-21T01:31:06Z',\n",
       "    'graph_date': '2021-02-21T10:22:29Z'}}}]"
      ]
     },
     "execution_count": 50,
     "metadata": {},
     "output_type": "execute_result"
    }
   ],
   "source": [
    "returns"
   ]
  },
  {
   "cell_type": "code",
   "execution_count": 33,
   "metadata": {},
   "outputs": [
    {
     "ename": "SyntaxError",
     "evalue": "invalid syntax (<ipython-input-33-15e5ae7ec71c>, line 1)",
     "output_type": "error",
     "traceback": [
      "\u001b[0;36m  File \u001b[0;32m\"<ipython-input-33-15e5ae7ec71c>\"\u001b[0;36m, line \u001b[0;32m1\u001b[0m\n\u001b[0;31m    async with session.get(\u001b[0m\n\u001b[0m             ^\u001b[0m\n\u001b[0;31mSyntaxError\u001b[0m\u001b[0;31m:\u001b[0m invalid syntax\n"
     ]
    }
   ],
   "source": [
    "async with session.get(\n",
    "        f'https://maps.googleapis.com/maps/api/directions/json?origin={coords[0][1]},{points[0][0]}&destination={points[1][0]},{points[1][1]}&mode={self.mode}&transit_mode=bus|subway|train|tram|rail&key={os.environ.get(\"API_KEY\")}') as resp:\n",
    "    assert resp.status == 200\n",
    "    return await resp.json()"
   ]
  },
  {
   "cell_type": "code",
   "execution_count": 86,
   "metadata": {},
   "outputs": [],
   "source": [
    "api_key = '5b3ce3597851110001cf62483b7dd1ebde744c5b9663b60cb8ca1281'\n",
    "clnt = client.Client(key=api_key)"
   ]
  },
  {
   "cell_type": "code",
   "execution_count": 2,
   "metadata": {},
   "outputs": [
    {
     "ename": "NameError",
     "evalue": "name 'clnt' is not defined",
     "output_type": "error",
     "traceback": [
      "\u001b[0;31m---------------------------------------------------------------------------\u001b[0m",
      "\u001b[0;31mNameError\u001b[0m                                 Traceback (most recent call last)",
      "\u001b[0;32m<ipython-input-2-924faf911e08>\u001b[0m in \u001b[0;36m<module>\u001b[0;34m\u001b[0m\n\u001b[1;32m      7\u001b[0m           }\n\u001b[1;32m      8\u001b[0m \u001b[0;34m\u001b[0m\u001b[0m\n\u001b[0;32m----> 9\u001b[0;31m \u001b[0mroute\u001b[0m \u001b[0;34m=\u001b[0m \u001b[0mclnt\u001b[0m\u001b[0;34m.\u001b[0m\u001b[0mdirections\u001b[0m\u001b[0;34m(\u001b[0m\u001b[0;34m**\u001b[0m\u001b[0mrequest\u001b[0m\u001b[0;34m)\u001b[0m\u001b[0;34m\u001b[0m\u001b[0;34m\u001b[0m\u001b[0m\n\u001b[0m",
      "\u001b[0;31mNameError\u001b[0m: name 'clnt' is not defined"
     ]
    }
   ],
   "source": [
    "# coords = [(30.520792, 50.443679), (30.52463, 50.459157)]\n",
    "coords = [(30.52463, 50.459157), (30.520792, 50.443679)]\n",
    "request = {'coordinates': coords,\n",
    "           'profile': 'driving-car',\n",
    "           'geometry': 'true',\n",
    "           'format_out': 'json',      \n",
    "          }\n",
    "\n",
    "route = clnt.directions(**request)"
   ]
  },
  {
   "cell_type": "code",
   "execution_count": 95,
   "metadata": {
    "scrolled": true
   },
   "outputs": [
    {
     "data": {
      "text/plain": [
       "{'routes': [{'summary': {'distance': 6969.5, 'duration': 761.0},\n",
       "   'segments': [{'distance': 6969.5,\n",
       "     'duration': 761.0,\n",
       "     'steps': [{'distance': 11.4,\n",
       "       'duration': 2.7,\n",
       "       'type': 11,\n",
       "       'instruction': 'Head southeast on Петра Сагайдачного вулиця',\n",
       "       'name': 'Петра Сагайдачного вулиця',\n",
       "       'way_points': [0, 1]},\n",
       "      {'distance': 606.3,\n",
       "       'duration': 62.3,\n",
       "       'type': 2,\n",
       "       'instruction': 'Turn sharp left',\n",
       "       'name': '-',\n",
       "       'way_points': [1, 14]},\n",
       "      {'distance': 963.0,\n",
       "       'duration': 113.6,\n",
       "       'type': 12,\n",
       "       'instruction': 'Keep left onto Набережно-Хрещатицька вулиця',\n",
       "       'name': 'Набережно-Хрещатицька вулиця',\n",
       "       'way_points': [14, 31]},\n",
       "      {'distance': 1371.1,\n",
       "       'duration': 130.3,\n",
       "       'type': 0,\n",
       "       'instruction': 'Turn left onto Нижній Вал вулиця',\n",
       "       'name': 'Нижній Вал вулиця',\n",
       "       'way_points': [31, 71]},\n",
       "      {'distance': 792.6,\n",
       "       'duration': 63.4,\n",
       "       'type': 5,\n",
       "       'instruction': 'Turn slight right onto Глибочицька вулиця',\n",
       "       'name': 'Глибочицька вулиця',\n",
       "       'way_points': [71, 98]},\n",
       "      {'distance': 776.8,\n",
       "       'duration': 111.9,\n",
       "       'type': 0,\n",
       "       'instruction': 'Turn left onto Кудрявський узвіз',\n",
       "       'name': 'Кудрявський узвіз',\n",
       "       'way_points': [98, 128]},\n",
       "      {'distance': 55.1,\n",
       "       'duration': 9.9,\n",
       "       'type': 1,\n",
       "       'instruction': 'Turn right onto Кудрявський узвіз',\n",
       "       'name': 'Кудрявський узвіз',\n",
       "       'way_points': [128, 131]},\n",
       "      {'distance': 370.4,\n",
       "       'duration': 45.7,\n",
       "       'type': 0,\n",
       "       'instruction': 'Turn left onto Січових Стрільців вулиця',\n",
       "       'name': 'Січових Стрільців вулиця',\n",
       "       'way_points': [131, 140]},\n",
       "      {'distance': 85.2,\n",
       "       'duration': 12.3,\n",
       "       'type': 1,\n",
       "       'instruction': 'Turn right onto Львівська площа',\n",
       "       'name': 'Львівська площа',\n",
       "       'way_points': [140, 143]},\n",
       "      {'distance': 1476.2,\n",
       "       'duration': 158.0,\n",
       "       'type': 0,\n",
       "       'instruction': 'Turn left onto Львівська площа',\n",
       "       'name': 'Львівська площа',\n",
       "       'way_points': [143, 202]},\n",
       "      {'distance': 461.5,\n",
       "       'duration': 51.0,\n",
       "       'type': 1,\n",
       "       'instruction': 'Turn right onto Хрещатик вулиця',\n",
       "       'name': 'Хрещатик вулиця',\n",
       "       'way_points': [202, 208]},\n",
       "      {'distance': 0.0,\n",
       "       'duration': 0.0,\n",
       "       'type': 10,\n",
       "       'instruction': 'Arrive at Хрещатик вулиця, on the left',\n",
       "       'name': '-',\n",
       "       'way_points': [208, 208]}]}],\n",
       "   'bbox': [30.495958, 50.443681, 30.526477, 50.471604],\n",
       "   'geometry': '{h~rHczhyDNU[BMEGEKOoDaHKMWMa@@aBXiFv@cB^mBl@kCb@yCb@uNfBQD{FbAeAT_@PQN[d@GJu@~AGLCBcDfGMVcCxEKRg@bAT`@vBtDHNR^r@lA|@zAFLFJ~DhHJPHLJRhEnHx@tAFJ@BbAdBlAtBv@tAR\\\\@Bv@tAXf@@Bj@dADFl@fAz@zAFJLTVf@^p@pAxBbAfBtBpDt@rAp@`BBD^t@FP@TCRu@rCIXG^EZEbA?~@Bj@JfA^vC^nB~A`GH|@@rC?RBp@Dt@@t@FnB?LDnCBxA@b@FhFGj@IXDDFDDDLFT@vA?z@?B?|@A|@M^WlGiEn@}@RcAF[t@gEJg@V[hAs@TO^Y^WTc@Ja@FQHa@BIZoB@_@@g@\\\\Hr@\\\\LAEoBL}@F[DYbBeJ`@mBDSn@sDPiAJDrBjAHNx@u@BEJKFEZ[PSDEV[nAeBRYJM`@g@DIJKjAaB^e@|@kALSRW|@oAZa@j@w@BCj@w@PWp@{@HMNWBCxAqB|B}CHKXg@HU@SJm@R_CFu@@[XyCD_@B]j@}F@QTgC@K@K`@wEDm@PeBNqBBUBULwAHeA?EN}A^uEDq@dB^tMvCRFnBb@`B^JB',\n",
       "   'way_points': [0, 208]}],\n",
       " 'bbox': [30.495958, 50.443681, 30.526477, 50.471604],\n",
       " 'metadata': {'attribution': 'openrouteservice.org | OpenStreetMap contributors',\n",
       "  'service': 'routing',\n",
       "  'timestamp': 1615030026953,\n",
       "  'query': {'coordinates': [[30.52463, 50.459157], [30.520792, 50.443679]],\n",
       "   'profile': 'driving-car',\n",
       "   'format': 'json',\n",
       "   'geometry': True},\n",
       "  'engine': {'version': '6.3.6',\n",
       "   'build_date': '2021-02-21T01:31:06Z',\n",
       "   'graph_date': '1970-01-01T00:00:00Z'}}}"
      ]
     },
     "execution_count": 95,
     "metadata": {},
     "output_type": "execute_result"
    }
   ],
   "source": [
    "route"
   ]
  },
  {
   "cell_type": "code",
   "execution_count": 97,
   "metadata": {},
   "outputs": [
    {
     "data": {
      "text/plain": [
       "1"
      ]
     },
     "execution_count": 97,
     "metadata": {},
     "output_type": "execute_result"
    }
   ],
   "source": [
    "len(route['routes'])"
   ]
  },
  {
   "cell_type": "code",
   "execution_count": 89,
   "metadata": {},
   "outputs": [],
   "source": [
    "geometry = route['routes'][0]['geometry']\n",
    "decoded = convert.decode_polyline(geometry)"
   ]
  },
  {
   "cell_type": "code",
   "execution_count": 90,
   "metadata": {},
   "outputs": [
    {
     "data": {
      "text/plain": [
       "{'type': 'LineString',\n",
       " 'coordinates': [[30.52466, 50.45918],\n",
       "  [30.52477, 50.4591],\n",
       "  [30.52475, 50.45924],\n",
       "  [30.52478, 50.45931],\n",
       "  [30.52481, 50.45935],\n",
       "  [30.52489, 50.45941],\n",
       "  [30.52634, 50.46029],\n",
       "  [30.52641, 50.46035],\n",
       "  [30.52648, 50.46047],\n",
       "  [30.52647, 50.46064],\n",
       "  [30.52634, 50.46113],\n",
       "  [30.52606, 50.4623],\n",
       "  [30.5259, 50.4628],\n",
       "  [30.52567, 50.46335],\n",
       "  [30.52549, 50.46405],\n",
       "  [30.52531, 50.46482],\n",
       "  [30.52479, 50.46733],\n",
       "  [30.52476, 50.46742],\n",
       "  [30.52442, 50.46868],\n",
       "  [30.52431, 50.46903],\n",
       "  [30.52422, 50.46919],\n",
       "  [30.52414, 50.46928],\n",
       "  [30.52395, 50.46942],\n",
       "  [30.52389, 50.46946],\n",
       "  [30.52341, 50.46973],\n",
       "  [30.52334, 50.46977],\n",
       "  [30.52332, 50.46979],\n",
       "  [30.522, 50.47061],\n",
       "  [30.52188, 50.47068],\n",
       "  [30.52079, 50.47134],\n",
       "  [30.52069, 50.4714],\n",
       "  [30.52035, 50.4716],\n",
       "  [30.52018, 50.47149],\n",
       "  [30.51927, 50.47089],\n",
       "  [30.51919, 50.47084],\n",
       "  [30.51903, 50.47074],\n",
       "  [30.51864, 50.47048],\n",
       "  [30.51818, 50.47017],\n",
       "  [30.51811, 50.47013],\n",
       "  [30.51805, 50.47009],\n",
       "  [30.51656, 50.46913],\n",
       "  [30.51647, 50.46907],\n",
       "  [30.5164, 50.46902],\n",
       "  [30.5163, 50.46896],\n",
       "  [30.51478, 50.46795],\n",
       "  [30.51435, 50.46766],\n",
       "  [30.51429, 50.46762],\n",
       "  [30.51427, 50.46761],\n",
       "  [30.51376, 50.46727],\n",
       "  [30.51317, 50.46688],\n",
       "  [30.51274, 50.4666],\n",
       "  [30.51259, 50.4665],\n",
       "  [30.51257, 50.46649],\n",
       "  [30.51214, 50.46621],\n",
       "  [30.51194, 50.46608],\n",
       "  [30.51192, 50.46607],\n",
       "  [30.51157, 50.46585],\n",
       "  [30.51153, 50.46582],\n",
       "  [30.51117, 50.46559],\n",
       "  [30.51071, 50.46529],\n",
       "  [30.51065, 50.46525],\n",
       "  [30.51054, 50.46518],\n",
       "  [30.51034, 50.46506],\n",
       "  [30.51009, 50.4649],\n",
       "  [30.50948, 50.46449],\n",
       "  [30.50896, 50.46415],\n",
       "  [30.50807, 50.46356],\n",
       "  [30.50765, 50.46329],\n",
       "  [30.50716, 50.46304],\n",
       "  [30.50713, 50.46302],\n",
       "  [30.50686, 50.46286],\n",
       "  [30.50677, 50.46282],\n",
       "  [30.50666, 50.46281],\n",
       "  [30.50656, 50.46283],\n",
       "  [30.50582, 50.4631],\n",
       "  [30.50569, 50.46315],\n",
       "  [30.50553, 50.46319],\n",
       "  [30.50539, 50.46322],\n",
       "  [30.50505, 50.46325],\n",
       "  [30.50473, 50.46325],\n",
       "  [30.50451, 50.46323],\n",
       "  [30.50415, 50.46317],\n",
       "  [30.50339, 50.46301],\n",
       "  [30.50283, 50.46285],\n",
       "  [30.50154, 50.46237],\n",
       "  [30.50123, 50.46232],\n",
       "  [30.50049, 50.46231],\n",
       "  [30.50039, 50.46231],\n",
       "  [30.50014, 50.46229],\n",
       "  [30.49987, 50.46226],\n",
       "  [30.4996, 50.46225],\n",
       "  [30.49904, 50.46221],\n",
       "  [30.49897, 50.46221],\n",
       "  [30.49825, 50.46218],\n",
       "  [30.4978, 50.46216],\n",
       "  [30.49762, 50.46215],\n",
       "  [30.49645, 50.46211],\n",
       "  [30.49623, 50.46215],\n",
       "  [30.4961, 50.4622],\n",
       "  [30.49607, 50.46217],\n",
       "  [30.49604, 50.46213],\n",
       "  [30.49601, 50.4621],\n",
       "  [30.49597, 50.46203],\n",
       "  [30.49596, 50.46192],\n",
       "  [30.49596, 50.46148],\n",
       "  [30.49596, 50.46118],\n",
       "  [30.49596, 50.46116],\n",
       "  [30.49597, 50.46085],\n",
       "  [30.49604, 50.46054],\n",
       "  [30.49616, 50.46038],\n",
       "  [30.49717, 50.45903],\n",
       "  [30.49748, 50.45879],\n",
       "  [30.49782, 50.45869],\n",
       "  [30.49796, 50.45865],\n",
       "  [30.49896, 50.45838],\n",
       "  [30.49916, 50.45832],\n",
       "  [30.4993, 50.4582],\n",
       "  [30.49956, 50.45783],\n",
       "  [30.49964, 50.45772],\n",
       "  [30.49977, 50.45756],\n",
       "  [30.49989, 50.4574],\n",
       "  [30.50007, 50.45729],\n",
       "  [30.50024, 50.45723],\n",
       "  [30.50033, 50.45719],\n",
       "  [30.5005, 50.45714],\n",
       "  [30.50055, 50.45712],\n",
       "  [30.50111, 50.45698],\n",
       "  [30.50127, 50.45697],\n",
       "  [30.50147, 50.45696],\n",
       "  [30.50142, 50.45681],\n",
       "  [30.50127, 50.45655],\n",
       "  [30.50128, 50.45648],\n",
       "  [30.50184, 50.45651],\n",
       "  [30.50215, 50.45644],\n",
       "  [30.50229, 50.4564],\n",
       "  [30.50242, 50.45637],\n",
       "  [30.50421, 50.45587],\n",
       "  [30.50476, 50.4557],\n",
       "  [30.50486, 50.45567],\n",
       "  [30.50576, 50.45543],\n",
       "  [30.50613, 50.45534],\n",
       "  [30.5061, 50.45528],\n",
       "  [30.50572, 50.4547],\n",
       "  [30.50564, 50.45465],\n",
       "  [30.50591, 50.45436],\n",
       "  [30.50594, 50.45434],\n",
       "  [30.506, 50.45428],\n",
       "  [30.50603, 50.45424],\n",
       "  [30.50617, 50.4541],\n",
       "  [30.50627, 50.45401],\n",
       "  [30.5063, 50.45398],\n",
       "  [30.50644, 50.45386],\n",
       "  [30.50695, 50.45346],\n",
       "  [30.50708, 50.45336],\n",
       "  [30.50715, 50.4533],\n",
       "  [30.50735, 50.45313],\n",
       "  [30.5074, 50.4531],\n",
       "  [30.50746, 50.45304],\n",
       "  [30.50795, 50.45266],\n",
       "  [30.50814, 50.4525],\n",
       "  [30.50852, 50.45219],\n",
       "  [30.50862, 50.45212],\n",
       "  [30.50874, 50.45202],\n",
       "  [30.50914, 50.45171],\n",
       "  [30.50931, 50.45157],\n",
       "  [30.50959, 50.45135],\n",
       "  [30.50961, 50.45133],\n",
       "  [30.50989, 50.45111],\n",
       "  [30.51001, 50.45102],\n",
       "  [30.51031, 50.45077],\n",
       "  [30.51038, 50.45072],\n",
       "  [30.5105, 50.45064],\n",
       "  [30.51052, 50.45062],\n",
       "  [30.51109, 50.45017],\n",
       "  [30.51188, 50.44954],\n",
       "  [30.51194, 50.44949],\n",
       "  [30.51214, 50.44936],\n",
       "  [30.51225, 50.44931],\n",
       "  [30.51235, 50.4493],\n",
       "  [30.51258, 50.44924],\n",
       "  [30.51322, 50.44914],\n",
       "  [30.51349, 50.4491],\n",
       "  [30.51363, 50.44909],\n",
       "  [30.5144, 50.44896],\n",
       "  [30.51456, 50.44893],\n",
       "  [30.51471, 50.44891],\n",
       "  [30.51598, 50.44869],\n",
       "  [30.51607, 50.44868],\n",
       "  [30.51675, 50.44857],\n",
       "  [30.51681, 50.44856],\n",
       "  [30.51687, 50.44855],\n",
       "  [30.51795, 50.44838],\n",
       "  [30.51818, 50.44835],\n",
       "  [30.51869, 50.44826],\n",
       "  [30.51926, 50.44818],\n",
       "  [30.51937, 50.44816],\n",
       "  [30.51948, 50.44814],\n",
       "  [30.51992, 50.44807],\n",
       "  [30.52027, 50.44802],\n",
       "  [30.5203, 50.44802],\n",
       "  [30.52077, 50.44794],\n",
       "  [30.52184, 50.44778],\n",
       "  [30.52209, 50.44775],\n",
       "  [30.52193, 50.44724],\n",
       "  [30.52117, 50.44489],\n",
       "  [30.52113, 50.44479],\n",
       "  [30.52095, 50.44423],\n",
       "  [30.52079, 50.44374],\n",
       "  [30.52077, 50.44368]]}"
      ]
     },
     "execution_count": 90,
     "metadata": {},
     "output_type": "execute_result"
    }
   ],
   "source": [
    "decoded"
   ]
  },
  {
   "cell_type": "code",
   "execution_count": 92,
   "metadata": {},
   "outputs": [],
   "source": [
    "request = {'locations': coords,\n",
    "           'profile': 'driving-car',\n",
    "           'metrics': ['duration']}\n",
    "\n",
    "dist_mat = clnt.distance_matrix(**request)"
   ]
  },
  {
   "cell_type": "code",
   "execution_count": 93,
   "metadata": {},
   "outputs": [
    {
     "data": {
      "text/plain": [
       "[(30.52463, 50.459157), (30.520792, 50.443679)]"
      ]
     },
     "execution_count": 93,
     "metadata": {},
     "output_type": "execute_result"
    }
   ],
   "source": [
    "coords"
   ]
  },
  {
   "cell_type": "code",
   "execution_count": 94,
   "metadata": {},
   "outputs": [],
   "source": [
    "durations = dist_mat['durations']"
   ]
  },
  {
   "cell_type": "code",
   "execution_count": null,
   "metadata": {},
   "outputs": [],
   "source": []
  },
  {
   "cell_type": "code",
   "execution_count": 26,
   "metadata": {},
   "outputs": [],
   "source": [
    "points_durations = {(coords[i], coords[j]): durations[i][j] for j in range(len(durations)) for i in range(len(durations))}"
   ]
  },
  {
   "cell_type": "code",
   "execution_count": 27,
   "metadata": {},
   "outputs": [
    {
     "data": {
      "text/plain": [
       "{((30.520792, 50.443679), (30.520792, 50.443679)): 0.0,\n",
       " ((30.52463, 50.459157), (30.520792, 50.443679)): 761.03,\n",
       " ((30.520792, 50.443679), (30.52463, 50.459157)): 763.45,\n",
       " ((30.52463, 50.459157), (30.52463, 50.459157)): 0.0}"
      ]
     },
     "execution_count": 27,
     "metadata": {},
     "output_type": "execute_result"
    }
   ],
   "source": [
    "points_durations"
   ]
  },
  {
   "cell_type": "code",
   "execution_count": 9,
   "metadata": {},
   "outputs": [
    {
     "data": {
      "text/plain": [
       "{'durations': [[0.0, 763.45], [761.03, 0.0]],\n",
       " 'destinations': [{'location': [30.520774, 50.443681],\n",
       "   'snapped_distance': 1.32},\n",
       "  {'location': [30.524662, 50.459177], 'snapped_distance': 3.15}],\n",
       " 'sources': [{'location': [30.520774, 50.443681], 'snapped_distance': 1.32},\n",
       "  {'location': [30.524662, 50.459177], 'snapped_distance': 3.15}],\n",
       " 'metadata': {'attribution': 'openrouteservice.org | OpenStreetMap contributors',\n",
       "  'service': 'matrix',\n",
       "  'timestamp': 1614707954511,\n",
       "  'query': {'locations': [[30.520792, 50.443679], [30.52463, 50.459157]],\n",
       "   'profile': 'driving-car',\n",
       "   'responseType': 'json',\n",
       "   'metricsStrings': ['DURATION'],\n",
       "   'metrics': ['duration']},\n",
       "  'engine': {'version': '6.3.6',\n",
       "   'build_date': '2021-02-21T01:31:06Z',\n",
       "   'graph_date': '2021-02-21T10:22:29Z'}}}"
      ]
     },
     "execution_count": 9,
     "metadata": {},
     "output_type": "execute_result"
    }
   ],
   "source": [
    "dist_mat"
   ]
  },
  {
   "cell_type": "code",
   "execution_count": 6,
   "metadata": {},
   "outputs": [],
   "source": [
    "from itertools import combinations\n",
    "coords = [(0, 0), (1, 1), (0, 1), (1, 0)]"
   ]
  },
  {
   "cell_type": "code",
   "execution_count": 7,
   "metadata": {},
   "outputs": [
    {
     "data": {
      "text/plain": [
       "[((0, 0), (1, 1)),\n",
       " ((0, 0), (0, 1)),\n",
       " ((0, 0), (1, 0)),\n",
       " ((1, 1), (0, 1)),\n",
       " ((1, 1), (1, 0)),\n",
       " ((0, 1), (1, 0))]"
      ]
     },
     "execution_count": 7,
     "metadata": {},
     "output_type": "execute_result"
    }
   ],
   "source": [
    "list(combinations(coords, 2))"
   ]
  },
  {
   "cell_type": "code",
   "execution_count": null,
   "metadata": {},
   "outputs": [],
   "source": []
  }
 ],
 "metadata": {
  "kernelspec": {
   "display_name": "Python 3",
   "language": "python",
   "name": "python3"
  },
  "language_info": {
   "codemirror_mode": {
    "name": "ipython",
    "version": 3
   },
   "file_extension": ".py",
   "mimetype": "text/x-python",
   "name": "python",
   "nbconvert_exporter": "python",
   "pygments_lexer": "ipython3",
   "version": "3.6.10"
  }
 },
 "nbformat": 4,
 "nbformat_minor": 4
}
