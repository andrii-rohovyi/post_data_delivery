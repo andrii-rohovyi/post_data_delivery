{
 "cells": [
  {
   "cell_type": "code",
   "execution_count": 1,
   "id": "accepting-arbor",
   "metadata": {},
   "outputs": [],
   "source": [
    "import os\n",
    "from random import randrange\n",
    "import sys\n",
    "import time\n",
    "\n",
    "sys.path.append('../')\n",
    "\n",
    "\n",
    "from logistic import LogisticOptimizer"
   ]
  },
  {
   "cell_type": "code",
   "execution_count": null,
   "id": "aging-interim",
   "metadata": {
    "scrolled": true
   },
   "outputs": [
    {
     "name": "stdout",
     "output_type": "stream",
     "text": [
      "Restricted license - for non-production use only - expires 2022-01-13\n",
      "Clustering method for n=2, m = 1 takes: 0.05230307579040527\n",
      "mTSP method for n=2, m = 1 takes: 0.0014712810516357422\n",
      "Clustering method for n=3, m = 1 takes: 0.029687166213989258\n",
      "mTSP method for n=3, m = 1 takes: 0.003914833068847656\n",
      "Clustering method for n=3, m = 2 takes: 0.01178288459777832\n",
      "mTSP method for n=3, m = 2 takes: 0.006158113479614258\n",
      "Clustering method for n=4, m = 1 takes: 0.031683921813964844\n",
      "mTSP method for n=4, m = 1 takes: 0.006134986877441406\n",
      "Clustering method for n=4, m = 2 takes: 0.014008045196533203\n",
      "mTSP method for n=4, m = 2 takes: 0.0105438232421875\n",
      "Clustering method for n=4, m = 3 takes: 0.013623714447021484\n",
      "mTSP method for n=4, m = 3 takes: 0.015900135040283203\n",
      "Clustering method for n=5, m = 1 takes: 0.028374671936035156\n",
      "mTSP method for n=5, m = 1 takes: 0.009615182876586914\n",
      "Clustering method for n=5, m = 2 takes: 0.012304306030273438\n",
      "mTSP method for n=5, m = 2 takes: 0.02897477149963379\n",
      "Clustering method for n=5, m = 3 takes: 0.015307903289794922\n",
      "mTSP method for n=5, m = 3 takes: 0.04138994216918945\n",
      "Clustering method for n=5, m = 4 takes: 0.01633596420288086\n",
      "mTSP method for n=5, m = 4 takes: 0.07664990425109863\n",
      "Clustering method for n=6, m = 1 takes: 0.027220964431762695\n",
      "mTSP method for n=6, m = 1 takes: 0.014964103698730469\n",
      "Clustering method for n=6, m = 2 takes: 0.014862298965454102\n",
      "mTSP method for n=6, m = 2 takes: 0.0674898624420166\n",
      "Clustering method for n=6, m = 3 takes: 0.01574873924255371\n",
      "mTSP method for n=6, m = 3 takes: 0.0789189338684082\n",
      "Clustering method for n=6, m = 4 takes: 0.016334056854248047\n",
      "mTSP method for n=6, m = 4 takes: 0.09195709228515625\n",
      "Clustering method for n=6, m = 5 takes: 0.01940608024597168\n",
      "mTSP method for n=6, m = 5 takes: 0.2570922374725342\n",
      "Clustering method for n=7, m = 1 takes: 0.03746795654296875\n",
      "mTSP method for n=7, m = 1 takes: 0.03573918342590332\n",
      "Clustering method for n=7, m = 2 takes: 0.01772904396057129\n",
      "mTSP method for n=7, m = 2 takes: 0.1382761001586914\n",
      "Clustering method for n=7, m = 3 takes: 0.016547203063964844\n",
      "mTSP method for n=7, m = 3 takes: 0.17708086967468262\n",
      "Clustering method for n=7, m = 4 takes: 0.018300771713256836\n",
      "mTSP method for n=7, m = 4 takes: 0.16333222389221191\n",
      "Clustering method for n=7, m = 5 takes: 0.018790006637573242\n",
      "mTSP method for n=7, m = 5 takes: 0.4106428623199463\n",
      "Clustering method for n=7, m = 6 takes: 0.02643895149230957\n",
      "mTSP method for n=7, m = 6 takes: 1.8801627159118652\n",
      "Clustering method for n=8, m = 1 takes: 0.06600666046142578\n",
      "mTSP method for n=8, m = 1 takes: 0.05232095718383789\n",
      "Clustering method for n=8, m = 2 takes: 0.015490055084228516\n",
      "mTSP method for n=8, m = 2 takes: 0.08029603958129883\n",
      "Clustering method for n=8, m = 3 takes: 0.018336057662963867\n",
      "mTSP method for n=8, m = 3 takes: 0.2744920253753662\n",
      "Clustering method for n=8, m = 4 takes: 0.02315807342529297\n",
      "mTSP method for n=8, m = 4 takes: 0.34706807136535645\n",
      "Clustering method for n=8, m = 5 takes: 0.02442193031311035\n",
      "mTSP method for n=8, m = 5 takes: 0.3511319160461426\n",
      "Clustering method for n=8, m = 6 takes: 0.02396106719970703\n"
     ]
    }
   ],
   "source": [
    "N = 40\n",
    "central_store=(0, 0)\n",
    "\n",
    "for n in range(1, N):\n",
    "    for amount_of_delivery_man in range(1, n):\n",
    "        locations = [(randrange(-90, 90), randrange(-180, 180)) for x in range(n)]\n",
    "        model = LogisticOptimizer(central_store=central_store,\n",
    "                              locations=locations,\n",
    "                              amount_of_delivery_man=amount_of_delivery_man)\n",
    "        \n",
    "        start = time.time()\n",
    "        model.clustering_approximation()\n",
    "        print(f'Clustering method for n={len(locations)}, m = {amount_of_delivery_man} takes: {time.time() - start}')\n",
    "        \n",
    "        start = time.time()\n",
    "        model.multiple_salesman_problem_mlp()\n",
    "        print(f'mTSP method for n={len(locations)}, m = {amount_of_delivery_man} takes: {time.time() - start}')"
   ]
  },
  {
   "cell_type": "code",
   "execution_count": 3,
   "id": "married-domain",
   "metadata": {},
   "outputs": [
    {
     "data": {
      "text/plain": [
       "[(23, 55), (-71, -4), (-36, 107), (-84, -15), (79, 54), (-73, 99), (8, 4)]"
      ]
     },
     "execution_count": 3,
     "metadata": {},
     "output_type": "execute_result"
    }
   ],
   "source": [
    "locations"
   ]
  },
  {
   "cell_type": "code",
   "execution_count": null,
   "id": "dense-dividend",
   "metadata": {},
   "outputs": [],
   "source": []
  }
 ],
 "metadata": {
  "kernelspec": {
   "display_name": "Python 3",
   "language": "python",
   "name": "python3"
  },
  "language_info": {
   "codemirror_mode": {
    "name": "ipython",
    "version": 3
   },
   "file_extension": ".py",
   "mimetype": "text/x-python",
   "name": "python",
   "nbconvert_exporter": "python",
   "pygments_lexer": "ipython3",
   "version": "3.9.1"
  }
 },
 "nbformat": 4,
 "nbformat_minor": 5
}
