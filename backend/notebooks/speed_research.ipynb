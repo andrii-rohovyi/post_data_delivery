{
 "cells": [
  {
   "cell_type": "code",
   "execution_count": 1,
   "id": "reserved-cleaning",
   "metadata": {},
   "outputs": [],
   "source": [
    "import os\n",
    "from random import randrange\n",
    "import sys\n",
    "import time\n",
    "\n",
    "sys.path.append('../')\n",
    "\n",
    "\n",
    "from logistic import LogisticOptimizer"
   ]
  },
  {
   "cell_type": "code",
   "execution_count": 2,
   "id": "perceived-awareness",
   "metadata": {
    "scrolled": true
   },
   "outputs": [
    {
     "name": "stdout",
     "output_type": "stream",
     "text": [
      "Restricted license - for non-production use only - expires 2022-01-13\n",
      "Clustering method for n=2, m = 1 takes: 0.04759502410888672\n",
      "mTSP method for n=2, m = 1 takes: 0.0012540817260742188\n",
      "Clustering method for n=3, m = 1 takes: 0.029464006423950195\n",
      "mTSP method for n=3, m = 1 takes: 0.0034418106079101562\n",
      "Clustering method for n=3, m = 2 takes: 0.012308120727539062\n",
      "mTSP method for n=3, m = 2 takes: 0.006410121917724609\n",
      "Clustering method for n=4, m = 1 takes: 0.025943994522094727\n",
      "mTSP method for n=4, m = 1 takes: 0.005124092102050781\n",
      "Clustering method for n=4, m = 2 takes: 0.010771989822387695\n",
      "mTSP method for n=4, m = 2 takes: 0.011263847351074219\n",
      "Clustering method for n=4, m = 3 takes: 0.013592243194580078\n",
      "mTSP method for n=4, m = 3 takes: 0.01667499542236328\n",
      "Clustering method for n=5, m = 1 takes: 0.027945995330810547\n",
      "mTSP method for n=5, m = 1 takes: 0.006751060485839844\n",
      "Clustering method for n=5, m = 2 takes: 0.013643026351928711\n",
      "mTSP method for n=5, m = 2 takes: 0.03791499137878418\n",
      "Clustering method for n=5, m = 3 takes: 0.013895034790039062\n",
      "mTSP method for n=5, m = 3 takes: 0.0536799430847168\n",
      "Clustering method for n=5, m = 4 takes: 0.01585102081298828\n",
      "mTSP method for n=5, m = 4 takes: 0.054895877838134766\n",
      "Clustering method for n=6, m = 1 takes: 0.029471874237060547\n",
      "mTSP method for n=6, m = 1 takes: 0.007612943649291992\n",
      "Clustering method for n=6, m = 2 takes: 0.014175891876220703\n",
      "mTSP method for n=6, m = 2 takes: 0.0511171817779541\n",
      "Clustering method for n=6, m = 3 takes: 0.01645803451538086\n",
      "mTSP method for n=6, m = 3 takes: 0.08652591705322266\n",
      "Clustering method for n=6, m = 4 takes: 0.016440153121948242\n",
      "mTSP method for n=6, m = 4 takes: 0.21721220016479492\n",
      "Clustering method for n=6, m = 5 takes: 0.023686885833740234\n",
      "mTSP method for n=6, m = 5 takes: 0.13056111335754395\n",
      "Clustering method for n=7, m = 1 takes: 0.04032301902770996\n",
      "mTSP method for n=7, m = 1 takes: 0.07802224159240723\n",
      "Clustering method for n=7, m = 2 takes: 0.023434162139892578\n",
      "mTSP method for n=7, m = 2 takes: 0.137009859085083\n",
      "Clustering method for n=7, m = 3 takes: 0.016605138778686523\n",
      "mTSP method for n=7, m = 3 takes: 0.1198272705078125\n",
      "Clustering method for n=7, m = 4 takes: 0.01717209815979004\n",
      "mTSP method for n=7, m = 4 takes: 0.35137414932250977\n",
      "Clustering method for n=7, m = 5 takes: 0.02020406723022461\n",
      "mTSP method for n=7, m = 5 takes: 0.4015078544616699\n",
      "Clustering method for n=7, m = 6 takes: 0.02736210823059082\n"
     ]
    },
    {
     "ename": "KeyError",
     "evalue": "(0, 0)",
     "output_type": "error",
     "traceback": [
      "\u001b[0;31m---------------------------------------------------------------------------\u001b[0m",
      "\u001b[0;31mKeyError\u001b[0m                                  Traceback (most recent call last)",
      "\u001b[0;32m<ipython-input-2-71b54547f6ec>\u001b[0m in \u001b[0;36m<module>\u001b[0;34m\u001b[0m\n\u001b[1;32m     14\u001b[0m \u001b[0;34m\u001b[0m\u001b[0m\n\u001b[1;32m     15\u001b[0m         \u001b[0mstart\u001b[0m \u001b[0;34m=\u001b[0m \u001b[0mtime\u001b[0m\u001b[0;34m.\u001b[0m\u001b[0mtime\u001b[0m\u001b[0;34m(\u001b[0m\u001b[0;34m)\u001b[0m\u001b[0;34m\u001b[0m\u001b[0;34m\u001b[0m\u001b[0m\n\u001b[0;32m---> 16\u001b[0;31m         \u001b[0mmodel\u001b[0m\u001b[0;34m.\u001b[0m\u001b[0mmultiple_salesman_problem_mlp\u001b[0m\u001b[0;34m(\u001b[0m\u001b[0;34m)\u001b[0m\u001b[0;34m\u001b[0m\u001b[0;34m\u001b[0m\u001b[0m\n\u001b[0m\u001b[1;32m     17\u001b[0m         \u001b[0mprint\u001b[0m\u001b[0;34m(\u001b[0m\u001b[0;34mf'mTSP method for n={len(locations)}, m = {amount_of_delivery_man} takes: {time.time() - start}'\u001b[0m\u001b[0;34m)\u001b[0m\u001b[0;34m\u001b[0m\u001b[0;34m\u001b[0m\u001b[0m\n",
      "\u001b[0;32m~/dev/postdata/post_data_delivery/backend/logistic/logistic_optimizer.py\u001b[0m in \u001b[0;36mmultiple_salesman_problem_mlp\u001b[0;34m(self, solver)\u001b[0m\n\u001b[1;32m    190\u001b[0m         \u001b[0mresult\u001b[0m \u001b[0;34m=\u001b[0m \u001b[0;34m[\u001b[0m\u001b[0;34m]\u001b[0m\u001b[0;34m\u001b[0m\u001b[0;34m\u001b[0m\u001b[0m\n\u001b[1;32m    191\u001b[0m         \u001b[0;32mfor\u001b[0m \u001b[0mi\u001b[0m \u001b[0;32min\u001b[0m \u001b[0mpoints_graph\u001b[0m\u001b[0;34m.\u001b[0m\u001b[0mkeys\u001b[0m\u001b[0;34m(\u001b[0m\u001b[0;34m)\u001b[0m\u001b[0;34m:\u001b[0m\u001b[0;34m\u001b[0m\u001b[0;34m\u001b[0m\u001b[0m\n\u001b[0;32m--> 192\u001b[0;31m             \u001b[0mresult\u001b[0m\u001b[0;34m.\u001b[0m\u001b[0mappend\u001b[0m\u001b[0;34m(\u001b[0m\u001b[0mdecode_list_from_vectors\u001b[0m\u001b[0;34m(\u001b[0m\u001b[0mpoints_graph\u001b[0m\u001b[0;34m=\u001b[0m\u001b[0mpoints_graph\u001b[0m\u001b[0;34m[\u001b[0m\u001b[0mi\u001b[0m\u001b[0;34m]\u001b[0m\u001b[0;34m,\u001b[0m \u001b[0mcentral_store\u001b[0m\u001b[0;34m=\u001b[0m\u001b[0mself\u001b[0m\u001b[0;34m.\u001b[0m\u001b[0mcentral_store\u001b[0m\u001b[0;34m)\u001b[0m\u001b[0;34m)\u001b[0m\u001b[0;34m\u001b[0m\u001b[0;34m\u001b[0m\u001b[0m\n\u001b[0m\u001b[1;32m    193\u001b[0m \u001b[0;34m\u001b[0m\u001b[0m\n\u001b[1;32m    194\u001b[0m         \u001b[0;32mreturn\u001b[0m \u001b[0mresult\u001b[0m\u001b[0;34m\u001b[0m\u001b[0;34m\u001b[0m\u001b[0m\n",
      "\u001b[0;32m~/dev/postdata/post_data_delivery/backend/logistic/utils.py\u001b[0m in \u001b[0;36mdecode_list_from_vectors\u001b[0;34m(points_graph, central_store)\u001b[0m\n\u001b[1;32m     41\u001b[0m         \u001b[0mDecoded\u001b[0m \u001b[0mlist\u001b[0m \u001b[0;32mwith\u001b[0m \u001b[0ma\u001b[0m \u001b[0mpoints\u001b[0m \u001b[0msequence\u001b[0m \u001b[0;32min\u001b[0m \u001b[0mtrip\u001b[0m\u001b[0;34m\u001b[0m\u001b[0;34m\u001b[0m\u001b[0m\n\u001b[1;32m     42\u001b[0m     \"\"\"\n\u001b[0;32m---> 43\u001b[0;31m     \u001b[0mstart_point\u001b[0m \u001b[0;34m=\u001b[0m \u001b[0mpoints_graph\u001b[0m\u001b[0;34m[\u001b[0m\u001b[0mcentral_store\u001b[0m\u001b[0;34m]\u001b[0m\u001b[0;34m\u001b[0m\u001b[0;34m\u001b[0m\u001b[0m\n\u001b[0m\u001b[1;32m     44\u001b[0m     \u001b[0mpoints_sequence\u001b[0m \u001b[0;34m=\u001b[0m \u001b[0;34m[\u001b[0m\u001b[0mcentral_store\u001b[0m\u001b[0;34m,\u001b[0m \u001b[0mstart_point\u001b[0m\u001b[0;34m]\u001b[0m\u001b[0;34m\u001b[0m\u001b[0;34m\u001b[0m\u001b[0m\n\u001b[1;32m     45\u001b[0m     \u001b[0;32mwhile\u001b[0m \u001b[0mstart_point\u001b[0m \u001b[0;34m!=\u001b[0m \u001b[0mcentral_store\u001b[0m\u001b[0;34m:\u001b[0m\u001b[0;34m\u001b[0m\u001b[0;34m\u001b[0m\u001b[0m\n",
      "\u001b[0;31mKeyError\u001b[0m: (0, 0)"
     ]
    }
   ],
   "source": [
    "N = 40\n",
    "central_store=(0, 0)\n",
    "\n",
    "for n in range(1, N):\n",
    "    for amount_of_delivery_man in range(1, n):\n",
    "        locations = [(randrange(-90, 90), randrange(-180, 180)) for x in range(n)]\n",
    "        model = LogisticOptimizer(central_store=central_store,\n",
    "                              locations=locations,\n",
    "                              amount_of_delivery_man=amount_of_delivery_man)\n",
    "        \n",
    "        start = time.time()\n",
    "        model.clustering_approximation()\n",
    "        print(f'Clustering method for n={len(locations)}, m = {amount_of_delivery_man} takes: {time.time() - start}')\n",
    "        \n",
    "        start = time.time()\n",
    "        model.multiple_salesman_problem_mlp()\n",
    "        print(f'mTSP method for n={len(locations)}, m = {amount_of_delivery_man} takes: {time.time() - start}')"
   ]
  },
  {
   "cell_type": "code",
   "execution_count": 3,
   "id": "pleasant-fighter",
   "metadata": {},
   "outputs": [
    {
     "data": {
      "text/plain": [
       "[(23, 55), (-71, -4), (-36, 107), (-84, -15), (79, 54), (-73, 99), (8, 4)]"
      ]
     },
     "execution_count": 3,
     "metadata": {},
     "output_type": "execute_result"
    }
   ],
   "source": [
    "locations"
   ]
  },
  {
   "cell_type": "code",
   "execution_count": null,
   "id": "mounted-ranch",
   "metadata": {},
   "outputs": [],
   "source": []
  }
 ],
 "metadata": {
  "kernelspec": {
   "display_name": "Python 3",
   "language": "python",
   "name": "python3"
  },
  "language_info": {
   "codemirror_mode": {
    "name": "ipython",
    "version": 3
   },
   "file_extension": ".py",
   "mimetype": "text/x-python",
   "name": "python",
   "nbconvert_exporter": "python",
   "pygments_lexer": "ipython3",
   "version": "3.9.1"
  }
 },
 "nbformat": 4,
 "nbformat_minor": 5
}
