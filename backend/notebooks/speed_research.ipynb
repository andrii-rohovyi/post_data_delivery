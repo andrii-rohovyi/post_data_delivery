{
 "cells": [
  {
   "cell_type": "code",
   "execution_count": 1,
   "id": "excited-yugoslavia",
   "metadata": {},
   "outputs": [],
   "source": [
    "import os\n",
    "from random import randrange\n",
    "import sys\n",
    "import time\n",
    "\n",
    "sys.path.append('../')\n",
    "\n",
    "\n",
    "from logistic import LogisticOptimizer"
   ]
  },
  {
   "cell_type": "code",
   "execution_count": 2,
   "id": "duplicate-attempt",
   "metadata": {
    "scrolled": true
   },
   "outputs": [
    {
     "name": "stdout",
     "output_type": "stream",
     "text": [
      "Restricted license - for non-production use only - expires 2022-01-13\n",
      "Clustering method for n=2, m = 1 takes: 0.05230307579040527\n",
      "mTSP method for n=2, m = 1 takes: 0.0014712810516357422\n",
      "Clustering method for n=3, m = 1 takes: 0.029687166213989258\n",
      "mTSP method for n=3, m = 1 takes: 0.003914833068847656\n",
      "Clustering method for n=3, m = 2 takes: 0.01178288459777832\n",
      "mTSP method for n=3, m = 2 takes: 0.006158113479614258\n",
      "Clustering method for n=4, m = 1 takes: 0.031683921813964844\n",
      "mTSP method for n=4, m = 1 takes: 0.006134986877441406\n",
      "Clustering method for n=4, m = 2 takes: 0.014008045196533203\n",
      "mTSP method for n=4, m = 2 takes: 0.0105438232421875\n",
      "Clustering method for n=4, m = 3 takes: 0.013623714447021484\n",
      "mTSP method for n=4, m = 3 takes: 0.015900135040283203\n",
      "Clustering method for n=5, m = 1 takes: 0.028374671936035156\n",
      "mTSP method for n=5, m = 1 takes: 0.009615182876586914\n",
      "Clustering method for n=5, m = 2 takes: 0.012304306030273438\n",
      "mTSP method for n=5, m = 2 takes: 0.02897477149963379\n",
      "Clustering method for n=5, m = 3 takes: 0.015307903289794922\n",
      "mTSP method for n=5, m = 3 takes: 0.04138994216918945\n",
      "Clustering method for n=5, m = 4 takes: 0.01633596420288086\n",
      "mTSP method for n=5, m = 4 takes: 0.07664990425109863\n",
      "Clustering method for n=6, m = 1 takes: 0.027220964431762695\n",
      "mTSP method for n=6, m = 1 takes: 0.014964103698730469\n",
      "Clustering method for n=6, m = 2 takes: 0.014862298965454102\n",
      "mTSP method for n=6, m = 2 takes: 0.0674898624420166\n",
      "Clustering method for n=6, m = 3 takes: 0.01574873924255371\n",
      "mTSP method for n=6, m = 3 takes: 0.0789189338684082\n",
      "Clustering method for n=6, m = 4 takes: 0.016334056854248047\n",
      "mTSP method for n=6, m = 4 takes: 0.09195709228515625\n",
      "Clustering method for n=6, m = 5 takes: 0.01940608024597168\n",
      "mTSP method for n=6, m = 5 takes: 0.2570922374725342\n",
      "Clustering method for n=7, m = 1 takes: 0.03746795654296875\n",
      "mTSP method for n=7, m = 1 takes: 0.03573918342590332\n",
      "Clustering method for n=7, m = 2 takes: 0.01772904396057129\n",
      "mTSP method for n=7, m = 2 takes: 0.1382761001586914\n",
      "Clustering method for n=7, m = 3 takes: 0.016547203063964844\n",
      "mTSP method for n=7, m = 3 takes: 0.17708086967468262\n",
      "Clustering method for n=7, m = 4 takes: 0.018300771713256836\n",
      "mTSP method for n=7, m = 4 takes: 0.16333222389221191\n",
      "Clustering method for n=7, m = 5 takes: 0.018790006637573242\n",
      "mTSP method for n=7, m = 5 takes: 0.4106428623199463\n",
      "Clustering method for n=7, m = 6 takes: 0.02643895149230957\n",
      "mTSP method for n=7, m = 6 takes: 1.8801627159118652\n",
      "Clustering method for n=8, m = 1 takes: 0.06600666046142578\n",
      "mTSP method for n=8, m = 1 takes: 0.05232095718383789\n",
      "Clustering method for n=8, m = 2 takes: 0.015490055084228516\n",
      "mTSP method for n=8, m = 2 takes: 0.08029603958129883\n",
      "Clustering method for n=8, m = 3 takes: 0.018336057662963867\n",
      "mTSP method for n=8, m = 3 takes: 0.2744920253753662\n",
      "Clustering method for n=8, m = 4 takes: 0.02315807342529297\n",
      "mTSP method for n=8, m = 4 takes: 0.34706807136535645\n",
      "Clustering method for n=8, m = 5 takes: 0.02442193031311035\n",
      "mTSP method for n=8, m = 5 takes: 0.3511319160461426\n",
      "Clustering method for n=8, m = 6 takes: 0.02396106719970703\n",
      "mTSP method for n=8, m = 6 takes: 39.40803289413452\n",
      "Clustering method for n=8, m = 7 takes: 0.028714895248413086\n",
      "mTSP method for n=8, m = 7 takes: 3.6979928016662598\n",
      "Clustering method for n=9, m = 1 takes: 0.03988289833068848\n",
      "mTSP method for n=9, m = 1 takes: 0.022053003311157227\n",
      "Clustering method for n=9, m = 2 takes: 0.01957225799560547\n",
      "mTSP method for n=9, m = 2 takes: 0.2703979015350342\n",
      "Clustering method for n=9, m = 3 takes: 0.021179914474487305\n",
      "mTSP method for n=9, m = 3 takes: 1.348649024963379\n",
      "Clustering method for n=9, m = 4 takes: 0.022899150848388672\n",
      "mTSP method for n=9, m = 4 takes: 0.5153720378875732\n",
      "Clustering method for n=9, m = 5 takes: 0.02775287628173828\n",
      "mTSP method for n=9, m = 5 takes: 0.5196828842163086\n",
      "Clustering method for n=9, m = 6 takes: 0.02449512481689453\n",
      "mTSP method for n=9, m = 6 takes: 3.671363115310669\n",
      "Clustering method for n=9, m = 7 takes: 0.02689385414123535\n",
      "mTSP method for n=9, m = 7 takes: 2.6908438205718994\n",
      "Clustering method for n=9, m = 8 takes: 0.031126976013183594\n",
      "mTSP method for n=9, m = 8 takes: 13.373301029205322\n",
      "Clustering method for n=10, m = 1 takes: 0.05223703384399414\n",
      "mTSP method for n=10, m = 1 takes: 0.12524700164794922\n",
      "Clustering method for n=10, m = 2 takes: 0.024168968200683594\n",
      "mTSP method for n=10, m = 2 takes: 0.856604814529419\n",
      "Clustering method for n=10, m = 3 takes: 0.02535080909729004\n"
     ]
    },
    {
     "ename": "KeyError",
     "evalue": "(-54, -180)",
     "output_type": "error",
     "traceback": [
      "\u001b[0;31m---------------------------------------------------------------------------\u001b[0m",
      "\u001b[0;31mKeyError\u001b[0m                                  Traceback (most recent call last)",
      "\u001b[0;32m<ipython-input-2-71b54547f6ec>\u001b[0m in \u001b[0;36m<module>\u001b[0;34m\u001b[0m\n\u001b[1;32m     14\u001b[0m \u001b[0;34m\u001b[0m\u001b[0m\n\u001b[1;32m     15\u001b[0m         \u001b[0mstart\u001b[0m \u001b[0;34m=\u001b[0m \u001b[0mtime\u001b[0m\u001b[0;34m.\u001b[0m\u001b[0mtime\u001b[0m\u001b[0;34m(\u001b[0m\u001b[0;34m)\u001b[0m\u001b[0;34m\u001b[0m\u001b[0;34m\u001b[0m\u001b[0m\n\u001b[0;32m---> 16\u001b[0;31m         \u001b[0mmodel\u001b[0m\u001b[0;34m.\u001b[0m\u001b[0mmultiple_salesman_problem_mlp\u001b[0m\u001b[0;34m(\u001b[0m\u001b[0;34m)\u001b[0m\u001b[0;34m\u001b[0m\u001b[0;34m\u001b[0m\u001b[0m\n\u001b[0m\u001b[1;32m     17\u001b[0m         \u001b[0mprint\u001b[0m\u001b[0;34m(\u001b[0m\u001b[0;34mf'mTSP method for n={len(locations)}, m = {amount_of_delivery_man} takes: {time.time() - start}'\u001b[0m\u001b[0;34m)\u001b[0m\u001b[0;34m\u001b[0m\u001b[0;34m\u001b[0m\u001b[0m\n",
      "\u001b[0;32m~/dev/postdata/post_data_delivery/backend/logistic/logistic_optimizer.py\u001b[0m in \u001b[0;36mmultiple_salesman_problem_mlp\u001b[0;34m(self, solver)\u001b[0m\n\u001b[1;32m    192\u001b[0m         \u001b[0mresult\u001b[0m \u001b[0;34m=\u001b[0m \u001b[0;34m[\u001b[0m\u001b[0;34m]\u001b[0m\u001b[0;34m\u001b[0m\u001b[0;34m\u001b[0m\u001b[0m\n\u001b[1;32m    193\u001b[0m         \u001b[0;32mfor\u001b[0m \u001b[0mi\u001b[0m \u001b[0;32min\u001b[0m \u001b[0mpoints_graph\u001b[0m\u001b[0;34m.\u001b[0m\u001b[0mkeys\u001b[0m\u001b[0;34m(\u001b[0m\u001b[0;34m)\u001b[0m\u001b[0;34m:\u001b[0m\u001b[0;34m\u001b[0m\u001b[0;34m\u001b[0m\u001b[0m\n\u001b[0;32m--> 194\u001b[0;31m             \u001b[0mresult\u001b[0m\u001b[0;34m.\u001b[0m\u001b[0mappend\u001b[0m\u001b[0;34m(\u001b[0m\u001b[0mdecode_list_from_vectors\u001b[0m\u001b[0;34m(\u001b[0m\u001b[0mpoints_graph\u001b[0m\u001b[0;34m=\u001b[0m\u001b[0mpoints_graph\u001b[0m\u001b[0;34m[\u001b[0m\u001b[0mi\u001b[0m\u001b[0;34m]\u001b[0m\u001b[0;34m,\u001b[0m \u001b[0mcentral_store\u001b[0m\u001b[0;34m=\u001b[0m\u001b[0mself\u001b[0m\u001b[0;34m.\u001b[0m\u001b[0mcentral_store\u001b[0m\u001b[0;34m)\u001b[0m\u001b[0;34m)\u001b[0m\u001b[0;34m\u001b[0m\u001b[0;34m\u001b[0m\u001b[0m\n\u001b[0m\u001b[1;32m    195\u001b[0m \u001b[0;34m\u001b[0m\u001b[0m\n\u001b[1;32m    196\u001b[0m         \u001b[0;32mreturn\u001b[0m \u001b[0mresult\u001b[0m\u001b[0;34m\u001b[0m\u001b[0;34m\u001b[0m\u001b[0m\n",
      "\u001b[0;32m~/dev/postdata/post_data_delivery/backend/logistic/utils.py\u001b[0m in \u001b[0;36mdecode_list_from_vectors\u001b[0;34m(points_graph, central_store)\u001b[0m\n\u001b[1;32m     44\u001b[0m     \u001b[0mpoints_sequence\u001b[0m \u001b[0;34m=\u001b[0m \u001b[0;34m[\u001b[0m\u001b[0mcentral_store\u001b[0m\u001b[0;34m,\u001b[0m \u001b[0mstart_point\u001b[0m\u001b[0;34m]\u001b[0m\u001b[0;34m\u001b[0m\u001b[0;34m\u001b[0m\u001b[0m\n\u001b[1;32m     45\u001b[0m     \u001b[0;32mwhile\u001b[0m \u001b[0mstart_point\u001b[0m \u001b[0;34m!=\u001b[0m \u001b[0mcentral_store\u001b[0m\u001b[0;34m:\u001b[0m\u001b[0;34m\u001b[0m\u001b[0;34m\u001b[0m\u001b[0m\n\u001b[0;32m---> 46\u001b[0;31m         \u001b[0mstart_point\u001b[0m \u001b[0;34m=\u001b[0m \u001b[0mpoints_graph\u001b[0m\u001b[0;34m[\u001b[0m\u001b[0mstart_point\u001b[0m\u001b[0;34m]\u001b[0m\u001b[0;34m\u001b[0m\u001b[0;34m\u001b[0m\u001b[0m\n\u001b[0m\u001b[1;32m     47\u001b[0m         \u001b[0mpoints_sequence\u001b[0m \u001b[0;34m+=\u001b[0m \u001b[0;34m[\u001b[0m\u001b[0mstart_point\u001b[0m\u001b[0;34m]\u001b[0m\u001b[0;34m\u001b[0m\u001b[0;34m\u001b[0m\u001b[0m\n\u001b[1;32m     48\u001b[0m \u001b[0;34m\u001b[0m\u001b[0m\n",
      "\u001b[0;31mKeyError\u001b[0m: (-54, -180)"
     ]
    }
   ],
   "source": [
    "N = 40\n",
    "central_store=(0, 0)\n",
    "\n",
    "for n in range(1, N):\n",
    "    for amount_of_delivery_man in range(1, n):\n",
    "        locations = [(randrange(-90, 90), randrange(-180, 180)) for x in range(n)]\n",
    "        model = LogisticOptimizer(central_store=central_store,\n",
    "                              locations=locations,\n",
    "                              amount_of_delivery_man=amount_of_delivery_man)\n",
    "        \n",
    "        start = time.time()\n",
    "        model.clustering_approximation()\n",
    "        print(f'Clustering method for n={len(locations)}, m = {amount_of_delivery_man} takes: {time.time() - start}')\n",
    "        \n",
    "        start = time.time()\n",
    "        model.multiple_salesman_problem_mlp()\n",
    "        print(f'mTSP method for n={len(locations)}, m = {amount_of_delivery_man} takes: {time.time() - start}')"
   ]
  },
  {
   "cell_type": "code",
   "execution_count": 3,
   "id": "friendly-polish",
   "metadata": {},
   "outputs": [
    {
     "data": {
      "text/plain": [
       "[(23, 55), (-71, -4), (-36, 107), (-84, -15), (79, 54), (-73, 99), (8, 4)]"
      ]
     },
     "execution_count": 3,
     "metadata": {},
     "output_type": "execute_result"
    }
   ],
   "source": [
    "locations"
   ]
  },
  {
   "cell_type": "code",
   "execution_count": null,
   "id": "hairy-startup",
   "metadata": {},
   "outputs": [],
   "source": []
  }
 ],
 "metadata": {
  "kernelspec": {
   "display_name": "Python 3",
   "language": "python",
   "name": "python3"
  },
  "language_info": {
   "codemirror_mode": {
    "name": "ipython",
    "version": 3
   },
   "file_extension": ".py",
   "mimetype": "text/x-python",
   "name": "python",
   "nbconvert_exporter": "python",
   "pygments_lexer": "ipython3",
   "version": "3.9.1"
  }
 },
 "nbformat": 4,
 "nbformat_minor": 5
}
