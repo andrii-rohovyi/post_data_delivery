{
 "cells": [
  {
   "cell_type": "code",
   "execution_count": 1,
   "id": "bored-rings",
   "metadata": {},
   "outputs": [],
   "source": [
    "import os\n",
    "from random import randrange\n",
    "import sys\n",
    "import time\n",
    "\n",
    "sys.path.append('../')\n",
    "\n",
    "\n",
    "from logistic import LogisticOptimizer"
   ]
  },
  {
   "cell_type": "code",
   "execution_count": 2,
   "id": "labeled-machine",
   "metadata": {
    "scrolled": true
   },
   "outputs": [
    {
     "name": "stdout",
     "output_type": "stream",
     "text": [
      "Clustering method for n=2, m = 1 takes: 0.08465695381164551\n",
      "mTSP method for n=2, m = 1 takes: 0.012130022048950195\n",
      "Clustering method for n=3, m = 1 takes: 0.04934191703796387\n",
      "mTSP method for n=3, m = 1 takes: 0.01744818687438965\n",
      "Clustering method for n=3, m = 2 takes: 0.030009031295776367\n",
      "mTSP method for n=3, m = 2 takes: 0.0328822135925293\n",
      "Clustering method for n=4, m = 1 takes: 0.053106069564819336\n",
      "mTSP method for n=4, m = 1 takes: 0.03967475891113281\n",
      "Clustering method for n=4, m = 2 takes: 0.03423810005187988\n",
      "mTSP method for n=4, m = 2 takes: 0.049674034118652344\n",
      "Clustering method for n=4, m = 3 takes: 0.04437708854675293\n",
      "mTSP method for n=4, m = 3 takes: 0.2944450378417969\n",
      "Clustering method for n=5, m = 1 takes: 0.0677330493927002\n",
      "mTSP method for n=5, m = 1 takes: 0.146528959274292\n",
      "Clustering method for n=5, m = 2 takes: 0.0407562255859375\n",
      "mTSP method for n=5, m = 2 takes: 0.40694713592529297\n",
      "Clustering method for n=5, m = 3 takes: 0.04112529754638672\n",
      "mTSP method for n=5, m = 3 takes: 0.4762430191040039\n",
      "Clustering method for n=5, m = 4 takes: 0.0612950325012207\n",
      "mTSP method for n=5, m = 4 takes: 0.7709202766418457\n",
      "Clustering method for n=6, m = 1 takes: 0.07227706909179688\n",
      "mTSP method for n=6, m = 1 takes: 0.0625147819519043\n",
      "Clustering method for n=6, m = 2 takes: 0.039977312088012695\n",
      "mTSP method for n=6, m = 2 takes: 0.3860199451446533\n",
      "Clustering method for n=6, m = 3 takes: 0.06115889549255371\n",
      "mTSP method for n=6, m = 3 takes: 1.991617202758789\n",
      "Clustering method for n=6, m = 4 takes: 0.05633997917175293\n",
      "mTSP method for n=6, m = 4 takes: 1.1576669216156006\n",
      "Clustering method for n=6, m = 5 takes: 0.06704878807067871\n",
      "mTSP method for n=6, m = 5 takes: 1.5766150951385498\n"
     ]
    }
   ],
   "source": [
    "N = 7\n",
    "central_store=(0, 0)\n",
    "\n",
    "for n in range(1, N):\n",
    "    for amount_of_delivery_man in range(1, n):\n",
    "        locations = [(randrange(-90, 90), randrange(-180, 180)) for x in range(n)]\n",
    "        model = LogisticOptimizer(central_store=central_store,\n",
    "                              locations=locations,\n",
    "                              amount_of_delivery_man=amount_of_delivery_man)\n",
    "        \n",
    "        start = time.time()\n",
    "        model.clustering_approximation()\n",
    "        print(f'Clustering method for n={len(locations)}, m = {amount_of_delivery_man} takes: {time.time() - start}')\n",
    "        \n",
    "        start = time.time()\n",
    "        model.multiple_salesman_problem_mlp()\n",
    "        print(f'mTSP method for n={len(locations)}, m = {amount_of_delivery_man} takes: {time.time() - start}')"
   ]
  },
  {
   "cell_type": "code",
   "execution_count": null,
   "id": "funded-edinburgh",
   "metadata": {},
   "outputs": [],
   "source": []
  }
 ],
 "metadata": {
  "kernelspec": {
   "display_name": "Python 3",
   "language": "python",
   "name": "python3"
  },
  "language_info": {
   "codemirror_mode": {
    "name": "ipython",
    "version": 3
   },
   "file_extension": ".py",
   "mimetype": "text/x-python",
   "name": "python",
   "nbconvert_exporter": "python",
   "pygments_lexer": "ipython3",
   "version": "3.9.1"
  }
 },
 "nbformat": 4,
 "nbformat_minor": 5
}
